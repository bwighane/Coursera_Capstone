{
nbformat_minor: 1,
cells: [
{
source: "<h1>This is a sample python code for Capstone project of IBM data scientist course by Coursera.<h1>",
cell_type: "markdown",
metadata: {
collapsed: true
},
},
{
source: "import pandas as pd",
cell_type: "code",
metadata: { },
outputs: [
{
output_type: "stream",
name: "stdout",
text: "Waiting for a Spark session to start... Spark Initialization Done! ApplicationId = app-20190715075502-0000 KERNEL_ID = a166ad41-c5ea-42c2-8649-9248bf2e85bf ",
}
],
execution_count: 1,
},
{
source: "import numpy as np",
cell_type: "code",
metadata: { },
outputs: [ ],
execution_count: 2,
},
{
source: "print("Hello Capstone Project Course!")",
cell_type: "code",
metadata: { },
outputs: [
{
output_type: "stream",
name: "stdout",
text: "Hello Capstone Project Course! ",
}
],
execution_count: 3,
},
{
source: "",
cell_type: "code",
metadata: { },
outputs: [ ],
execution_count: null,
},
],
metadata: {
kernelspec: {
display_name: "Python 3.6 with Spark",
name: "python36",
language: "python3",
},
language_info: {
mimetype: "text/x-python",
nbconvert_exporter: "python",
version: "3.6.8",
name: "python",
pygments_lexer: "ipython3",
file_extension: ".py",
codemirror_mode: {
version: 3,
name: "ipython",
},
},
},
nbformat: 4,
}
